{
  "cells": [
    {
      "cell_type": "markdown",
      "metadata": {
        "id": "gslUYeTquUFG"
      },
      "source": [
        "# Лабораторная работа №2\n",
        "\n",
        "**Требования:**\n",
        "* Python >= 3.X\n",
        "\n",
        "Лабораторную работу необходимо выполнять в данном шаблоне. Результатом работы будет являться файл (с измененным именем), который необходимо выложить в Moodle.\n",
        "\n",
        "**Важно!!!** Имя файлу задавайте по следующему шаблону **lab_2_Группа_ФамилияИО.ipynb**. Например: если Вас зовут Иванов Иван Иванович, и Вы обучаетесь в группе 6207_010302D, то имя файла будет выглядеть так **lab_2_6407_010302D_ИвановИИ.ipynb**.\n",
        "\n",
        "Необходимо провести исследование различных способов представления документов и их влияние на качество определения тональности.\n",
        "\n",
        "В качестве входных данных к лабораторной работе взят широко известный набор данных IMDB, содержащий 50K обзоров фильмов ([imdb-dataset-of-50k-movie-reviews](https://disk.yandex.ru/i/DDb0zuyUmts5QA)). Откликами являются значения двух классов positive и negative."
      ]
    },
    {
      "cell_type": "code",
      "metadata": {
        "id": "19bRLGm4uUFJ",
        "colab": {
          "base_uri": "https://localhost:8080/",
          "height": 261
        },
        "outputId": "5e3e5347-2e5c-406a-c58a-88210ecef7cc",
        "ExecuteTime": {
          "end_time": "2024-05-06T19:42:39.884716Z",
          "start_time": "2024-05-06T19:42:39.446312Z"
        }
      },
      "source": [
        "# Код загрузки данных\n",
        "# Если хотите добавить какие-либо библиотеки\n",
        "# добавляйте их ИМЕННО ЗДЕСЬ\n",
        "import pandas as pd\n",
        "import inflect\n",
        "import re\n",
        "import spacy\n",
        "from sklearn.feature_extraction.text import CountVectorizer, TfidfVectorizer\n",
        "from sklearn.svm import SVC\n",
        "from sklearn.ensemble import RandomForestClassifier\n",
        "from sklearn.model_selection import train_test_split, cross_val_score, KFold, GridSearchCV\n",
        "\n",
        "\n",
        "imdb_data = pd.read_csv(r'/IMDB Dataset.csv')\n",
        "imdb_data.head(5)"
      ],
      "outputs": [
        {
          "data": {
            "text/plain": [
              "                                              review sentiment\n",
              "0  One of the other reviewers has mentioned that ...  positive\n",
              "1  A wonderful little production. <br /><br />The...  positive\n",
              "2  I thought this was a wonderful way to spend ti...  positive\n",
              "3  Basically there's a family where a little boy ...  negative\n",
              "4  Petter Mattei's \"Love in the Time of Money\" is...  positive"
            ],
            "text/html": [
              "<div>\n",
              "<style scoped>\n",
              "    .dataframe tbody tr th:only-of-type {\n",
              "        vertical-align: middle;\n",
              "    }\n",
              "\n",
              "    .dataframe tbody tr th {\n",
              "        vertical-align: top;\n",
              "    }\n",
              "\n",
              "    .dataframe thead th {\n",
              "        text-align: right;\n",
              "    }\n",
              "</style>\n",
              "<table border=\"1\" class=\"dataframe\">\n",
              "  <thead>\n",
              "    <tr style=\"text-align: right;\">\n",
              "      <th></th>\n",
              "      <th>review</th>\n",
              "      <th>sentiment</th>\n",
              "    </tr>\n",
              "  </thead>\n",
              "  <tbody>\n",
              "    <tr>\n",
              "      <th>0</th>\n",
              "      <td>One of the other reviewers has mentioned that ...</td>\n",
              "      <td>positive</td>\n",
              "    </tr>\n",
              "    <tr>\n",
              "      <th>1</th>\n",
              "      <td>A wonderful little production. &lt;br /&gt;&lt;br /&gt;The...</td>\n",
              "      <td>positive</td>\n",
              "    </tr>\n",
              "    <tr>\n",
              "      <th>2</th>\n",
              "      <td>I thought this was a wonderful way to spend ti...</td>\n",
              "      <td>positive</td>\n",
              "    </tr>\n",
              "    <tr>\n",
              "      <th>3</th>\n",
              "      <td>Basically there's a family where a little boy ...</td>\n",
              "      <td>negative</td>\n",
              "    </tr>\n",
              "    <tr>\n",
              "      <th>4</th>\n",
              "      <td>Petter Mattei's \"Love in the Time of Money\" is...</td>\n",
              "      <td>positive</td>\n",
              "    </tr>\n",
              "  </tbody>\n",
              "</table>\n",
              "</div>"
            ]
          },
          "execution_count": 10,
          "metadata": {},
          "output_type": "execute_result"
        }
      ],
      "execution_count": null
    },
    {
      "cell_type": "markdown",
      "metadata": {
        "id": "D3BN0Oc7uUFK"
      },
      "source": [
        "#### Шаг №1 Подготовка данных\n",
        "\n",
        "Обязательно предобработайте данные!\n",
        "\n"
      ]
    },
    {
      "cell_type": "code",
      "metadata": {
        "id": "XhBBJ5cauUFK",
        "colab": {
          "base_uri": "https://localhost:8080/",
          "height": 206
        },
        "outputId": "aa48444b-2058-41c2-f0d7-c6909c6e379a",
        "ExecuteTime": {
          "end_time": "2024-05-06T19:53:34.117095Z",
          "start_time": "2024-05-06T19:42:43.057640Z"
        }
      },
      "source": [
        "infl = inflect.engine()\n",
        "nlp = spacy.load('en_core_web_sm', disable=['parser', 'ner'])\n",
        "\n",
        "def preprocess_text(text):\n",
        "  text = text.lower()\n",
        "  text = re.sub(r'<[^>]+>', '', text) #удаляем html теги\n",
        "  text = re.sub(\"[!@#$%^&*(){}£\\/'']\", '',text) #удаляем специальные символы\n",
        "  numbers = re.findall('(\\d+)', text)\n",
        "  for number in numbers:\n",
        "    text = text.replace(number, infl.number_to_words(int(number)))\n",
        "  tokens = nlp(text)\n",
        "  filtered_tokens = []\n",
        "  for token in tokens:\n",
        "        if token.is_stop or token.is_punct:\n",
        "            continue\n",
        "        filtered_tokens.append(token.lemma_)\n",
        "  preprocessed_text = ' '.join(filtered_tokens)\n",
        "  return preprocessed_text\n",
        "\n",
        "# Применение предобработки к столбцу с отзывами\n",
        "imdb_data['cleaned_review'] = imdb_data['review'].apply(preprocess_text)\n",
        "#imdb_data.to_csv('preprocessed_reviews.csv', index=False)\n",
        "imdb_data.head(5)"
      ],
      "outputs": [
        {
          "name": "stderr",
          "output_type": "stream",
          "text": [
            "<>:7: SyntaxWarning: invalid escape sequence '\\/'\n",
            "<>:8: SyntaxWarning: invalid escape sequence '\\d'\n",
            "<>:7: SyntaxWarning: invalid escape sequence '\\/'\n",
            "<>:8: SyntaxWarning: invalid escape sequence '\\d'\n",
            "C:\\Users\\user\\AppData\\Local\\Temp\\ipykernel_23356\\2258610164.py:7: SyntaxWarning: invalid escape sequence '\\/'\n",
            "  text = re.sub(\"[!@#$%^&*(){}£\\/'']\", '',text)\n",
            "C:\\Users\\user\\AppData\\Local\\Temp\\ipykernel_23356\\2258610164.py:8: SyntaxWarning: invalid escape sequence '\\d'\n",
            "  numbers = re.findall('(\\d+)', text)\n"
          ]
        },
        {
          "data": {
            "text/plain": [
              "                                              review sentiment  \\\n",
              "0  One of the other reviewers has mentioned that ...  positive   \n",
              "1  A wonderful little production. <br /><br />The...  positive   \n",
              "2  I thought this was a wonderful way to spend ti...  positive   \n",
              "3  Basically there's a family where a little boy ...  negative   \n",
              "4  Petter Mattei's \"Love in the Time of Money\" is...  positive   \n",
              "\n",
              "                                      cleaned_review  \n",
              "0  reviewer mention watch oz episode ll hook righ...  \n",
              "1  wonderful little production film technique una...  \n",
              "2  think wonderful way spend time hot summer week...  \n",
              "3  basically s family little boy jake think s zom...  \n",
              "4  petter matteis love time money visually stunni...  "
            ],
            "text/html": [
              "<div>\n",
              "<style scoped>\n",
              "    .dataframe tbody tr th:only-of-type {\n",
              "        vertical-align: middle;\n",
              "    }\n",
              "\n",
              "    .dataframe tbody tr th {\n",
              "        vertical-align: top;\n",
              "    }\n",
              "\n",
              "    .dataframe thead th {\n",
              "        text-align: right;\n",
              "    }\n",
              "</style>\n",
              "<table border=\"1\" class=\"dataframe\">\n",
              "  <thead>\n",
              "    <tr style=\"text-align: right;\">\n",
              "      <th></th>\n",
              "      <th>review</th>\n",
              "      <th>sentiment</th>\n",
              "      <th>cleaned_review</th>\n",
              "    </tr>\n",
              "  </thead>\n",
              "  <tbody>\n",
              "    <tr>\n",
              "      <th>0</th>\n",
              "      <td>One of the other reviewers has mentioned that ...</td>\n",
              "      <td>positive</td>\n",
              "      <td>reviewer mention watch oz episode ll hook righ...</td>\n",
              "    </tr>\n",
              "    <tr>\n",
              "      <th>1</th>\n",
              "      <td>A wonderful little production. &lt;br /&gt;&lt;br /&gt;The...</td>\n",
              "      <td>positive</td>\n",
              "      <td>wonderful little production film technique una...</td>\n",
              "    </tr>\n",
              "    <tr>\n",
              "      <th>2</th>\n",
              "      <td>I thought this was a wonderful way to spend ti...</td>\n",
              "      <td>positive</td>\n",
              "      <td>think wonderful way spend time hot summer week...</td>\n",
              "    </tr>\n",
              "    <tr>\n",
              "      <th>3</th>\n",
              "      <td>Basically there's a family where a little boy ...</td>\n",
              "      <td>negative</td>\n",
              "      <td>basically s family little boy jake think s zom...</td>\n",
              "    </tr>\n",
              "    <tr>\n",
              "      <th>4</th>\n",
              "      <td>Petter Mattei's \"Love in the Time of Money\" is...</td>\n",
              "      <td>positive</td>\n",
              "      <td>petter matteis love time money visually stunni...</td>\n",
              "    </tr>\n",
              "  </tbody>\n",
              "</table>\n",
              "</div>"
            ]
          },
          "execution_count": 11,
          "metadata": {},
          "output_type": "execute_result"
        }
      ],
      "execution_count": null
    },
    {
      "cell_type": "code",
      "source": [
        "sentiment_mapping = {'positive': 1, 'negative': 0}\n",
        "\n",
        "imdb_data['sentiment_encoded'] = imdb_data['sentiment'].map(sentiment_mapping)\n",
        "\n",
        "imdb_data.head(5)"
      ],
      "metadata": {
        "id": "rfpLCjSKbJJU",
        "colab": {
          "base_uri": "https://localhost:8080/",
          "height": 206
        },
        "outputId": "9e7753b9-c8e6-4e7f-cfd2-1f66415b3c2a",
        "ExecuteTime": {
          "end_time": "2024-05-06T19:53:34.127802Z",
          "start_time": "2024-05-06T19:53:34.118093Z"
        }
      },
      "outputs": [
        {
          "data": {
            "text/plain": [
              "                                              review sentiment  \\\n",
              "0  One of the other reviewers has mentioned that ...  positive   \n",
              "1  A wonderful little production. <br /><br />The...  positive   \n",
              "2  I thought this was a wonderful way to spend ti...  positive   \n",
              "3  Basically there's a family where a little boy ...  negative   \n",
              "4  Petter Mattei's \"Love in the Time of Money\" is...  positive   \n",
              "\n",
              "                                      cleaned_review  sentiment_encoded  \n",
              "0  reviewer mention watch oz episode ll hook righ...                  1  \n",
              "1  wonderful little production film technique una...                  1  \n",
              "2  think wonderful way spend time hot summer week...                  1  \n",
              "3  basically s family little boy jake think s zom...                  0  \n",
              "4  petter matteis love time money visually stunni...                  1  "
            ],
            "text/html": [
              "<div>\n",
              "<style scoped>\n",
              "    .dataframe tbody tr th:only-of-type {\n",
              "        vertical-align: middle;\n",
              "    }\n",
              "\n",
              "    .dataframe tbody tr th {\n",
              "        vertical-align: top;\n",
              "    }\n",
              "\n",
              "    .dataframe thead th {\n",
              "        text-align: right;\n",
              "    }\n",
              "</style>\n",
              "<table border=\"1\" class=\"dataframe\">\n",
              "  <thead>\n",
              "    <tr style=\"text-align: right;\">\n",
              "      <th></th>\n",
              "      <th>review</th>\n",
              "      <th>sentiment</th>\n",
              "      <th>cleaned_review</th>\n",
              "      <th>sentiment_encoded</th>\n",
              "    </tr>\n",
              "  </thead>\n",
              "  <tbody>\n",
              "    <tr>\n",
              "      <th>0</th>\n",
              "      <td>One of the other reviewers has mentioned that ...</td>\n",
              "      <td>positive</td>\n",
              "      <td>reviewer mention watch oz episode ll hook righ...</td>\n",
              "      <td>1</td>\n",
              "    </tr>\n",
              "    <tr>\n",
              "      <th>1</th>\n",
              "      <td>A wonderful little production. &lt;br /&gt;&lt;br /&gt;The...</td>\n",
              "      <td>positive</td>\n",
              "      <td>wonderful little production film technique una...</td>\n",
              "      <td>1</td>\n",
              "    </tr>\n",
              "    <tr>\n",
              "      <th>2</th>\n",
              "      <td>I thought this was a wonderful way to spend ti...</td>\n",
              "      <td>positive</td>\n",
              "      <td>think wonderful way spend time hot summer week...</td>\n",
              "      <td>1</td>\n",
              "    </tr>\n",
              "    <tr>\n",
              "      <th>3</th>\n",
              "      <td>Basically there's a family where a little boy ...</td>\n",
              "      <td>negative</td>\n",
              "      <td>basically s family little boy jake think s zom...</td>\n",
              "      <td>0</td>\n",
              "    </tr>\n",
              "    <tr>\n",
              "      <th>4</th>\n",
              "      <td>Petter Mattei's \"Love in the Time of Money\" is...</td>\n",
              "      <td>positive</td>\n",
              "      <td>petter matteis love time money visually stunni...</td>\n",
              "      <td>1</td>\n",
              "    </tr>\n",
              "  </tbody>\n",
              "</table>\n",
              "</div>"
            ]
          },
          "execution_count": 12,
          "metadata": {},
          "output_type": "execute_result"
        }
      ],
      "execution_count": null
    },
    {
      "cell_type": "code",
      "source": [
        "copy_size = len(imdb_data) // 2\n",
        "\n",
        "imdb_data_cp = imdb_data.head(copy_size).copy()\n",
        "\n",
        "print(\"Размер копии:\", imdb_data_cp.shape)"
      ],
      "metadata": {
        "id": "HQNFijccdvXj",
        "colab": {
          "base_uri": "https://localhost:8080/"
        },
        "outputId": "2a34a7fb-e671-491a-a42a-fadb6c917f86",
        "ExecuteTime": {
          "end_time": "2024-05-06T20:32:55.547630Z",
          "start_time": "2024-05-06T20:32:55.535408Z"
        }
      },
      "outputs": [
        {
          "name": "stdout",
          "output_type": "stream",
          "text": [
            "Размер копии: (25000, 4)\n"
          ]
        }
      ],
      "execution_count": null
    },
    {
      "cell_type": "code",
      "source": [
        "from sklearn.model_selection import train_test_split, cross_val_score, KFold, GridSearchCV\n",
        "\n",
        "train_x, test_x, train_y, test_y = train_test_split(imdb_data_cp['cleaned_review'],\n",
        "                                                    imdb_data_cp['sentiment_encoded'],\n",
        "                                                    test_size=0.20, random_state=42,\n",
        "                                                    stratify=imdb_data_cp['sentiment_encoded'])"
      ],
      "metadata": {
        "id": "NfeTLXNhctui",
        "ExecuteTime": {
          "end_time": "2024-05-06T20:32:58.488466Z",
          "start_time": "2024-05-06T20:32:58.479205Z"
        }
      },
      "outputs": [],
      "execution_count": null
    },
    {
      "cell_type": "markdown",
      "metadata": {
        "id": "kxFmbqzmuUFL"
      },
      "source": [
        "В качестве исследуемых способов представления текстов необходимо рассмотреть:\n",
        "\n",
        "#### 1.Компоненты вектора: частоты ([CountVectorizer](https://scikit-learn.org/stable/modules/generated/sklearn.feature_extraction.text.CountVectorizer.html))."
      ]
    },
    {
      "cell_type": "code",
      "metadata": {
        "id": "7yBiU_l1uUFL",
        "ExecuteTime": {
          "end_time": "2024-05-06T20:33:03.244771Z",
          "start_time": "2024-05-06T20:33:01.590181Z"
        }
      },
      "source": [
        "def count_vectorize_text_data(train_x, test_x, strip_accents='unicode'):\n",
        "    count_vectorizer = CountVectorizer(strip_accents=strip_accents)\n",
        "    train_x_count_vect = count_vectorizer.fit_transform(train_x)\n",
        "    test_x_count_vect = count_vectorizer.transform(test_x)\n",
        "    return train_x_count_vect, test_x_count_vect\n",
        "\n",
        "train_x_count_vect, test_x_count_vect = count_vectorize_text_data(train_x, test_x)"
      ],
      "outputs": [],
      "execution_count": null
    },
    {
      "cell_type": "markdown",
      "metadata": {
        "id": "_GLwtab3uUFM"
      },
      "source": [
        "#### 2. Компоненты вектора: оценки tf-idf для слова ([TfidfVectorizer](https://scikit-learn.org/stable/modules/generated/sklearn.feature_extraction.text.TfidfVectorizer.html))."
      ]
    },
    {
      "cell_type": "code",
      "metadata": {
        "id": "kjyO4UHbuUFM",
        "ExecuteTime": {
          "end_time": "2024-05-06T20:33:05.714335Z",
          "start_time": "2024-05-06T20:33:04.162169Z"
        }
      },
      "source": [
        "def tfidf_vectorize_text_data(train_x, test_x):\n",
        "    tfidf_vectorizer = TfidfVectorizer()\n",
        "    train_x_tfidf_vect = tfidf_vectorizer.fit_transform(train_x)\n",
        "    test_x_tfidf_vect = tfidf_vectorizer.transform(test_x)\n",
        "    return train_x_tfidf_vect, test_x_tfidf_vect\n",
        "\n",
        "train_x_tfidf_vect, test_x_tfidf_vect = tfidf_vectorize_text_data(train_x, test_x)"
      ],
      "outputs": [],
      "execution_count": null
    },
    {
      "cell_type": "markdown",
      "metadata": {
        "id": "0tVO_hIKuUFN"
      },
      "source": [
        "#### 3. Компоненты вектора: частоты N-грам."
      ]
    },
    {
      "cell_type": "code",
      "metadata": {
        "id": "tt5a4ogbuUFN",
        "ExecuteTime": {
          "end_time": "2024-05-06T20:33:14.955428Z",
          "start_time": "2024-05-06T20:33:07.633065Z"
        }
      },
      "source": [
        "def ngrams_vectorize_text_data(train_x, test_x, ngram_range=(1, 1), strip_accents='unicode'):\n",
        "    count_vectorizer = CountVectorizer(ngram_range=ngram_range, strip_accents=strip_accents)\n",
        "    train_x_ngrams_vect = count_vectorizer.fit_transform(train_x)\n",
        "    test_x_ngrams_vect = count_vectorizer.transform(test_x)\n",
        "    return train_x_ngrams_vect, test_x_ngrams_vect\n",
        "\n",
        "train_x_ngrams_vect, test_x_ngrams_vect = ngrams_vectorize_text_data(train_x, test_x, ngram_range=(3, 3))"
      ],
      "outputs": [],
      "execution_count": null
    },
    {
      "cell_type": "markdown",
      "metadata": {
        "id": "HQCaGDDEuUFO"
      },
      "source": [
        "### Шаг 2. Исследование моделей\n",
        "\n",
        "<table>\n",
        "\t\t<tr>\n",
        "\t\t\t<td></td>\n",
        "\t\t\t<td>$y = 1$</td>\n",
        "\t\t\t<td>$y = 0$</td>\n",
        "\t\t</tr>\n",
        "\t\t<tr>\n",
        "\t\t\t<td>$a(x) = 1$</td>\n",
        "\t\t\t<td>True Positive (TP)</td>\n",
        "\t\t\t<td>False Positive (FP)</td>\n",
        "\t\t</tr>\n",
        "    \t<tr>\n",
        "\t\t\t<td>$a(x) = 0$</td>\n",
        "\t\t\t<td>False Negative (FN)</td>\n",
        "\t\t\t<td>True Negative (TN)</td>\n",
        "\t\t</tr>\n",
        "</table>\n",
        "\n",
        "В зависимости от способа представления оценить качество классификации как долю правильных ответов на выборке ($\\operatorname{accuracy} = \\frac{\\operatorname{TP} + \\operatorname{TN}}{\\operatorname{TP} + \\operatorname{TN} + \\operatorname{FP} + \\operatorname{FN}}$). Используйте перекрестную проверку ([cross_val_score](https://scikit-learn.org/stable/modules/generated/sklearn.model_selection.cross_val_score.html), [KFold](https://scikit-learn.org/stable/modules/generated/sklearn.model_selection.KFold.html)).\n",
        "\n",
        "Для каждого из нижеперечисленных моделей необходимо определить оптимальные гиперпараметры ([GridSearchCV](https://scikit-learn.org/stable/modules/generated/sklearn.model_selection.GridSearchCV.html))\n",
        "\n",
        "Качество классификации оцениваем для следующих моделей:\n",
        "\n",
        "#### 1. Машина опорных векторов ([SVC](https://scikit-learn.org/stable/modules/generated/sklearn.svm.SVC.html))."
      ]
    },
    {
      "cell_type": "code",
      "source": [
        "#оценка качества классификации\n",
        "def quality_evaluation(X, y, model, params):\n",
        "    kf = KFold(n_splits=5, shuffle=True, random_state=42)\n",
        "\n",
        "    #поиск оптимальных гиперпараметров\n",
        "    grid_search = GridSearchCV(model, params, cv=kf, scoring='accuracy', verbose=3, n_jobs = 12)\n",
        "    grid_search.fit(X, y)\n",
        "\n",
        "    print(\"Лучшие гиперпараметры:\", grid_search.best_params_)\n",
        "    print(\"Лучший показатель перекрестной проверки (accuracy):\", grid_search.best_score_)\n",
        "    print()\n",
        "    return grid_search"
      ],
      "metadata": {
        "id": "0-ers4mO0dma",
        "ExecuteTime": {
          "end_time": "2024-05-06T20:43:26.639405Z",
          "start_time": "2024-05-06T20:43:26.635460Z"
        }
      },
      "outputs": [],
      "execution_count": null
    },
    {
      "cell_type": "code",
      "metadata": {
        "id": "yGj7g6c8uUFO",
        "colab": {
          "base_uri": "https://localhost:8080/"
        },
        "outputId": "e1a73030-29f8-4197-92e3-9c7358b3262d",
        "ExecuteTime": {
          "end_time": "2024-05-06T22:52:44.103563Z",
          "start_time": "2024-05-06T22:23:28.151787Z"
        }
      },
      "source": [
        "model_svc = SVC()\n",
        "\n",
        "parameters_svc = {\n",
        "    'C': [10, 100],\n",
        "    'gamma': [0.1, 0.001],\n",
        "    'kernel': ['rbf', 'linear']\n",
        "}\n",
        "\n",
        "grid_search_count_vect_svc = quality_evaluation(train_x_count_vect, train_y, model_svc, parameters_svc)\n",
        "#grid_search_tfidf_vect_svc = quality_evaluation(train_x_tfidf_vect, train_y, model_svc, parameters_svc)\n",
        "#grid_search_ngrams_vect_svc = quality_evaluation(train_x_ngrams_vect, train_y, model_svc, parameters_svc)"
      ],
      "outputs": [
        {
          "name": "stdout",
          "output_type": "stream",
          "text": [
            "Fitting 5 folds for each of 8 candidates, totalling 40 fits\n",
            "Лучшие гиперпараметры: {'C': 10, 'gamma': 0.001, 'kernel': 'rbf'}\n",
            "Лучший показатель перекрестной проверки (accuracy): 0.8754500000000001\n",
            "\n"
          ]
        }
      ],
      "execution_count": null
    },
    {
      "cell_type": "code",
      "source": [
        "grid_search_tfidf_vect_svc = quality_evaluation(train_x_tfidf_vect, train_y, model_svc, parameters_svc)\n"
      ],
      "metadata": {
        "colab": {
          "base_uri": "https://localhost:8080/"
        },
        "id": "LiyRcgNCvX8q",
        "outputId": "a7de1f90-49ff-44e2-c93c-23ab3bd99903",
        "ExecuteTime": {
          "end_time": "2024-05-06T23:23:43.618982Z",
          "start_time": "2024-05-06T22:52:44.105571Z"
        }
      },
      "outputs": [
        {
          "name": "stdout",
          "output_type": "stream",
          "text": [
            "Fitting 5 folds for each of 8 candidates, totalling 40 fits\n",
            "Лучшие гиперпараметры: {'C': 10, 'gamma': 0.1, 'kernel': 'rbf'}\n",
            "Лучший показатель перекрестной проверки (accuracy): 0.8782\n",
            "\n"
          ]
        }
      ],
      "execution_count": null
    },
    {
      "cell_type": "code",
      "source": [
        "grid_search_ngrams_vect_svc = quality_evaluation(train_x_ngrams_vect, train_y, model_svc, parameters_svc)"
      ],
      "metadata": {
        "colab": {
          "base_uri": "https://localhost:8080/"
        },
        "id": "FMayrkkzvgjD",
        "outputId": "ea37dc43-1e79-452d-ea3c-37437b92fcbb",
        "ExecuteTime": {
          "end_time": "2024-05-06T22:15:09.869467Z",
          "start_time": "2024-05-06T20:43:30.582587Z"
        }
      },
      "outputs": [
        {
          "name": "stdout",
          "output_type": "stream",
          "text": [
            "Fitting 5 folds for each of 8 candidates, totalling 40 fits\n",
            "Лучшие гиперпараметры: {'C': 10, 'gamma': 0.1, 'kernel': 'linear'}\n",
            "Лучший показатель перекрестной проверки (accuracy): 0.6883000000000001\n",
            "\n"
          ]
        }
      ],
      "execution_count": null
    },
    {
      "cell_type": "markdown",
      "metadata": {
        "id": "Uv_2ZOBfuUFO"
      },
      "source": [
        "#### 2. Случайный лес ([RandomForestClassifier](https://scikit-learn.org/stable/modules/generated/sklearn.ensemble.RandomForestClassifier.html))."
      ]
    },
    {
      "cell_type": "code",
      "metadata": {
        "id": "qqG9f5xsuUFP",
        "ExecuteTime": {
          "end_time": "2024-05-07T00:08:43.219207Z",
          "start_time": "2024-05-06T23:23:43.620028Z"
        },
        "outputId": "bea0e09a-2c30-4c82-f0ee-ed557c68590c"
      },
      "source": [
        "model_rf = RandomForestClassifier()\n",
        "\n",
        "parameters_rf = {\n",
        "    'n_estimators': [50, 150],\n",
        "    'max_depth': [None, 20],\n",
        "    'min_samples_leaf': [2, 4]\n",
        "}\n",
        "\n",
        "grid_search_count_vect_rf = quality_evaluation(train_x_count_vect, train_y, model_rf, parameters_rf)\n",
        "grid_search_tfidf_vect_rf = quality_evaluation(train_x_tfidf_vect, train_y, model_rf, parameters_rf)\n",
        "grid_search_ngrams_vect_rf = quality_evaluation(train_x_ngrams_vect, train_y, model_rf, parameters_rf)"
      ],
      "outputs": [
        {
          "name": "stdout",
          "output_type": "stream",
          "text": [
            "Fitting 5 folds for each of 8 candidates, totalling 40 fits\n",
            "Лучшие гиперпараметры: {'max_depth': None, 'min_samples_leaf': 2, 'n_estimators': 150}\n",
            "Лучший показатель перекрестной проверки (accuracy): 0.8567\n",
            "\n",
            "Fitting 5 folds for each of 8 candidates, totalling 40 fits\n",
            "Лучшие гиперпараметры: {'max_depth': None, 'min_samples_leaf': 4, 'n_estimators': 150}\n",
            "Лучший показатель перекрестной проверки (accuracy): 0.8508500000000001\n",
            "\n",
            "Fitting 5 folds for each of 8 candidates, totalling 40 fits\n",
            "Лучшие гиперпараметры: {'max_depth': None, 'min_samples_leaf': 2, 'n_estimators': 150}\n",
            "Лучший показатель перекрестной проверки (accuracy): 0.6657500000000001\n",
            "\n"
          ]
        }
      ],
      "execution_count": null
    },
    {
      "cell_type": "markdown",
      "metadata": {
        "id": "4ZYZph5xuUFP"
      },
      "source": [
        "### Шаг 3. Сравнение результатов\n",
        "\n",
        "Сравнить точность обученных моделей. Найти наиболее точную."
      ]
    },
    {
      "cell_type": "code",
      "metadata": {
        "id": "9PK9jxrVuUFP",
        "ExecuteTime": {
          "end_time": "2024-05-07T00:08:43.226978Z",
          "start_time": "2024-05-07T00:08:43.220244Z"
        },
        "outputId": "5d39a5fa-378d-41d0-bac3-040c733f587a"
      },
      "source": [
        "model_results = {}\n",
        "\n",
        "model_results['SVC_count_vect'] = {'accuracy': grid_search_count_vect_svc.best_score_,\n",
        "                                   'best_params': grid_search_count_vect_svc.best_params_}\n",
        "model_results['SVC_tfidf_vect'] = {'accuracy': grid_search_tfidf_vect_svc.best_score_,\n",
        "                                   'best_params': grid_search_tfidf_vect_svc.best_params_}\n",
        "model_results['SVC_ngrams_vect'] = {'accuracy': grid_search_ngrams_vect_svc.best_score_,\n",
        "                                    'best_params': grid_search_ngrams_vect_svc.best_params_}\n",
        "model_results['RandomForest_count_vect'] = {'accuracy': grid_search_count_vect_rf.best_score_,\n",
        "                                            'best_params': grid_search_count_vect_rf.best_params_}\n",
        "model_results['RandomForest_tfidf_vect'] = {'accuracy': grid_search_tfidf_vect_rf.best_score_,\n",
        "                                            'best_params': grid_search_tfidf_vect_rf.best_params_}\n",
        "model_results['RandomForest_ngrams_vect'] = {'accuracy': grid_search_ngrams_vect_rf.best_score_,\n",
        "                                             'best_params': grid_search_ngrams_vect_rf.best_params_}\n",
        "\n",
        "best_model = max(model_results, key=lambda x: model_results[x]['accuracy'])\n",
        "\n",
        "print(\"Наиболее точная модель:\", best_model)\n",
        "print(\"Лучший показатель точности:\", model_results[best_model]['accuracy'])\n",
        "print(\"Лучшие параметры:\", model_results[best_model]['best_params'])"
      ],
      "outputs": [
        {
          "name": "stdout",
          "output_type": "stream",
          "text": [
            "Наиболее точная модель: SVC_tfidf_vect\n",
            "Лучший показатель точности: 0.8782\n",
            "Лучшие параметры: {'C': 10, 'gamma': 0.1, 'kernel': 'rbf'}\n"
          ]
        }
      ],
      "execution_count": null
    },
    {
      "metadata": {
        "id": "tL6uz9cZ0YGu"
      },
      "cell_type": "markdown",
      "source": [
        "А теперь на всех данных..."
      ]
    },
    {
      "metadata": {
        "ExecuteTime": {
          "end_time": "2024-05-07T00:08:43.341641Z",
          "start_time": "2024-05-07T00:08:43.227978Z"
        },
        "id": "Ih3aj1HO0YGu"
      },
      "cell_type": "code",
      "source": [
        "train_x_all, test_x_all, train_y_all, test_y_all = train_test_split(imdb_data['cleaned_review'],\n",
        "                                                    imdb_data['sentiment_encoded'],\n",
        "                                                    test_size=0.20, random_state=42,\n",
        "                                                    stratify=imdb_data['sentiment_encoded'])"
      ],
      "outputs": [],
      "execution_count": null
    },
    {
      "metadata": {
        "ExecuteTime": {
          "end_time": "2024-05-07T00:54:39.959848Z",
          "start_time": "2024-05-07T00:08:43.341641Z"
        },
        "id": "YqZGTs9d0YGv",
        "outputId": "b7b532dd-b663-4a49-d4e8-8f6efea4f916"
      },
      "cell_type": "code",
      "source": [
        "best_model_name = best_model.split('_')[0]\n",
        "best_model_type = best_model.split('_')[1]\n",
        "best_params = model_results[best_model]['best_params']\n",
        "\n",
        "if best_model_name == 'SVC':\n",
        "    best_params['C'] = [best_params['C']]\n",
        "    best_params['gamma'] = [best_params['gamma']]\n",
        "    best_params['kernel'] = [best_params['kernel']]\n",
        "    if best_model_type == 'count':\n",
        "        train_x_count_vect, test_x_count_vect = count_vectorize_text_data(train_x_all, test_x_all)\n",
        "        grid_search_count_vect_svc_all = quality_evaluation(train_x_count_vect, train_y_all, model_svc, best_params)\n",
        "    elif best_model_type == 'tfidf':\n",
        "        train_x_tfidf_vect, test_x_tfidf_vect = tfidf_vectorize_text_data(train_x_all, test_x_all)\n",
        "        grid_search_tfidf_vect_svc_all = quality_evaluation(train_x_tfidf_vect, train_y_all, model_svc, best_params)\n",
        "    elif best_model_type == 'ngrams':\n",
        "        train_x_ngrams_vect, test_x_ngrams_vect = ngrams_vectorize_text_data(train_x_all, test_x_all, ngram_range=(3, 3))\n",
        "        grid_search_ngrams_vect_svc_all = quality_evaluation(train_x_ngrams_vect, train_y_all, model_svc, best_params)\n",
        "elif best_model_name == 'RandomForest':\n",
        "    best_params['n_estimators'] = [best_params['n_estimators']]\n",
        "    best_params['max_depth'] = [best_params['max_depth']]\n",
        "    best_params['min_samples_leaf'] = [best_params['min_samples_leaf']]\n",
        "    if best_model_type == 'count':\n",
        "        train_x_count_vect, test_x_count_vect = count_vectorize_text_data(train_x_all, test_x_all)\n",
        "        grid_search_count_vect_rf_all = quality_evaluation(train_x_count_vect, train_y_all, model_rf, best_params)\n",
        "    elif best_model_type == 'tfidf':\n",
        "        train_x_tfidf_vect, test_x_tfidf_vect = tfidf_vectorize_text_data(train_x_all, test_x_all)\n",
        "        grid_search_tfidf_vect_rf_all = quality_evaluation(train_x_tfidf_vect, train_y_all, model_rf, best_params)\n",
        "    elif best_model_type == 'ngrams':\n",
        "        train_x_ngrams_vect, test_x_ngrams_vect = ngrams_vectorize_text_data(train_x_all, test_x_all, ngram_range=(3, 3))\n",
        "        grid_search_ngrams_vect_rf = quality_evaluation(train_x_ngrams_vect, train_y_all, model_rf, best_params)"
      ],
      "outputs": [
        {
          "name": "stdout",
          "output_type": "stream",
          "text": [
            "Fitting 5 folds for each of 1 candidates, totalling 5 fits\n",
            "Лучшие гиперпараметры: {'C': 10, 'gamma': 0.1, 'kernel': 'rbf'}\n",
            "Лучший показатель перекрестной проверки (accuracy): 0.8875\n",
            "\n"
          ]
        }
      ],
      "execution_count": null
    }
  ],
  "metadata": {
    "colab": {
      "provenance": []
    },
    "kernelspec": {
      "display_name": "Python 3 (ipykernel)",
      "language": "python",
      "name": "python3"
    },
    "language_info": {
      "codemirror_mode": {
        "name": "ipython",
        "version": 3
      },
      "file_extension": ".py",
      "mimetype": "text/x-python",
      "name": "python",
      "nbconvert_exporter": "python",
      "pygments_lexer": "ipython3",
      "version": "3.11.2"
    }
  },
  "nbformat": 4,
  "nbformat_minor": 0
}